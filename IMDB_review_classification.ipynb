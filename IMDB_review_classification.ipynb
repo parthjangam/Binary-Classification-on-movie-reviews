{
 "cells": [
  {
   "cell_type": "code",
   "execution_count": 1,
   "id": "4aa4680b",
   "metadata": {},
   "outputs": [
    {
     "name": "stdout",
     "output_type": "stream",
     "text": [
      "WARNING:tensorflow:From c:\\Users\\prasa\\AppData\\Local\\Programs\\Python\\Python310\\lib\\site-packages\\keras\\src\\losses.py:2976: The name tf.losses.sparse_softmax_cross_entropy is deprecated. Please use tf.compat.v1.losses.sparse_softmax_cross_entropy instead.\n",
      "\n"
     ]
    }
   ],
   "source": [
    "import tensorflow as tf\n",
    "from tensorflow import keras\n",
    "from tensorflow.keras import layers\n"
   ]
  },
  {
   "cell_type": "markdown",
   "id": "3697f3d0",
   "metadata": {},
   "source": [
    "Load the IMDB Dataset"
   ]
  },
  {
   "cell_type": "code",
   "execution_count": 2,
   "id": "65d72f2f",
   "metadata": {},
   "outputs": [],
   "source": [
    "# Load the dataset with only the top 10,000 most frequent words\n",
    "(x_train, y_train), (x_test, y_test) = keras.datasets.imdb.load_data(num_words=10000)\n"
   ]
  },
  {
   "cell_type": "markdown",
   "id": "2d9d9201",
   "metadata": {},
   "source": [
    "Preprocess the Data\n",
    "\n",
    "-Reviews are already encoded as sequences of integers.\n",
    "\n",
    "-We’ll make all sequences the same length using padding."
   ]
  },
  {
   "cell_type": "code",
   "execution_count": 3,
   "id": "ef9a4fd1",
   "metadata": {},
   "outputs": [],
   "source": [
    "x_train = keras.preprocessing.sequence.pad_sequences(x_train, maxlen=256)\n",
    "x_test = keras.preprocessing.sequence.pad_sequences(x_test, maxlen=256)"
   ]
  },
  {
   "cell_type": "code",
   "execution_count": 4,
   "id": "cd967ea3",
   "metadata": {},
   "outputs": [
    {
     "name": "stdout",
     "output_type": "stream",
     "text": [
      "WARNING:tensorflow:From c:\\Users\\prasa\\AppData\\Local\\Programs\\Python\\Python310\\lib\\site-packages\\keras\\src\\backend.py:873: The name tf.get_default_graph is deprecated. Please use tf.compat.v1.get_default_graph instead.\n",
      "\n"
     ]
    }
   ],
   "source": [
    "model = keras.Sequential([\n",
    "    layers.Embedding(input_dim=10000, output_dim=16),\n",
    "    layers.GlobalAveragePooling1D(),\n",
    "    layers.Dense(16, activation='relu'),\n",
    "    layers.Dense(1, activation='sigmoid')  # Output layer for binary classification\n",
    "])\n"
   ]
  },
  {
   "cell_type": "markdown",
   "id": "ce524f27",
   "metadata": {},
   "source": [
    "Compile the Model"
   ]
  },
  {
   "cell_type": "markdown",
   "id": "2b63a10b",
   "metadata": {},
   "source": []
  },
  {
   "cell_type": "markdown",
   "id": "3d8e4f33",
   "metadata": {},
   "source": []
  },
  {
   "cell_type": "code",
   "execution_count": 5,
   "id": "dec04a59",
   "metadata": {},
   "outputs": [
    {
     "name": "stdout",
     "output_type": "stream",
     "text": [
      "WARNING:tensorflow:From c:\\Users\\prasa\\AppData\\Local\\Programs\\Python\\Python310\\lib\\site-packages\\keras\\src\\optimizers\\__init__.py:309: The name tf.train.Optimizer is deprecated. Please use tf.compat.v1.train.Optimizer instead.\n",
      "\n"
     ]
    }
   ],
   "source": [
    "model.compile(optimizer='adam',\n",
    "              loss='binary_crossentropy',\n",
    "              metrics=['accuracy'])\n"
   ]
  },
  {
   "cell_type": "markdown",
   "id": "e0cf3ab4",
   "metadata": {},
   "source": [
    "Train the Model"
   ]
  },
  {
   "cell_type": "code",
   "execution_count": 6,
   "id": "86e7112b",
   "metadata": {},
   "outputs": [
    {
     "name": "stdout",
     "output_type": "stream",
     "text": [
      "Epoch 1/10\n",
      "WARNING:tensorflow:From c:\\Users\\prasa\\AppData\\Local\\Programs\\Python\\Python310\\lib\\site-packages\\keras\\src\\utils\\tf_utils.py:492: The name tf.ragged.RaggedTensorValue is deprecated. Please use tf.compat.v1.ragged.RaggedTensorValue instead.\n",
      "\n",
      "WARNING:tensorflow:From c:\\Users\\prasa\\AppData\\Local\\Programs\\Python\\Python310\\lib\\site-packages\\keras\\src\\engine\\base_layer_utils.py:384: The name tf.executing_eagerly_outside_functions is deprecated. Please use tf.compat.v1.executing_eagerly_outside_functions instead.\n",
      "\n",
      "40/40 [==============================] - 2s 26ms/step - loss: 0.6913 - accuracy: 0.5928 - val_loss: 0.6881 - val_accuracy: 0.6836\n",
      "Epoch 2/10\n",
      "40/40 [==============================] - 1s 14ms/step - loss: 0.6823 - accuracy: 0.7194 - val_loss: 0.6728 - val_accuracy: 0.7534\n",
      "Epoch 3/10\n",
      "40/40 [==============================] - 1s 13ms/step - loss: 0.6590 - accuracy: 0.7699 - val_loss: 0.6398 - val_accuracy: 0.7764\n",
      "Epoch 4/10\n",
      "40/40 [==============================] - 1s 13ms/step - loss: 0.6172 - accuracy: 0.7926 - val_loss: 0.5912 - val_accuracy: 0.7974\n",
      "Epoch 5/10\n",
      "40/40 [==============================] - 1s 14ms/step - loss: 0.5608 - accuracy: 0.8184 - val_loss: 0.5342 - val_accuracy: 0.8142\n",
      "Epoch 6/10\n",
      "40/40 [==============================] - 1s 13ms/step - loss: 0.4999 - accuracy: 0.8397 - val_loss: 0.4820 - val_accuracy: 0.8260\n",
      "Epoch 7/10\n",
      "40/40 [==============================] - 1s 13ms/step - loss: 0.4423 - accuracy: 0.8575 - val_loss: 0.4330 - val_accuracy: 0.8478\n",
      "Epoch 8/10\n",
      "40/40 [==============================] - 1s 14ms/step - loss: 0.3943 - accuracy: 0.8705 - val_loss: 0.3978 - val_accuracy: 0.8504\n",
      "Epoch 9/10\n",
      "40/40 [==============================] - 1s 13ms/step - loss: 0.3570 - accuracy: 0.8824 - val_loss: 0.3705 - val_accuracy: 0.8636\n",
      "Epoch 10/10\n",
      "40/40 [==============================] - 1s 13ms/step - loss: 0.3267 - accuracy: 0.8897 - val_loss: 0.3499 - val_accuracy: 0.8680\n"
     ]
    }
   ],
   "source": [
    "history = model.fit(\n",
    "    x_train, y_train, \n",
    "    epochs=10, batch_size=512, \n",
    "    validation_split=0.2)\n"
   ]
  },
  {
   "cell_type": "markdown",
   "id": "8cd9090f",
   "metadata": {},
   "source": [
    "Evaluate the Model"
   ]
  },
  {
   "cell_type": "code",
   "execution_count": 7,
   "id": "fd2c8b7f",
   "metadata": {},
   "outputs": [
    {
     "name": "stdout",
     "output_type": "stream",
     "text": [
      "782/782 [==============================] - 1s 1ms/step - loss: 0.3587 - accuracy: 0.8610\n",
      "Test Accuracy: 86.10%\n"
     ]
    }
   ],
   "source": [
    "results = model.evaluate(x_test, y_test)\n",
    "print(f\"Test Accuracy: {results[1] * 100:.2f}%\")"
   ]
  }
 ],
 "metadata": {
  "kernelspec": {
   "display_name": "Python 3",
   "language": "python",
   "name": "python3"
  },
  "language_info": {
   "codemirror_mode": {
    "name": "ipython",
    "version": 3
   },
   "file_extension": ".py",
   "mimetype": "text/x-python",
   "name": "python",
   "nbconvert_exporter": "python",
   "pygments_lexer": "ipython3",
   "version": "3.10.0"
  }
 },
 "nbformat": 4,
 "nbformat_minor": 5
}
